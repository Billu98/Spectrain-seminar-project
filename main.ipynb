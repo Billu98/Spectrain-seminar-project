{
  "nbformat": 4,
  "nbformat_minor": 0,
  "metadata": {
    "colab": {
      "provenance": [],
      "gpuType": "T4",
      "mount_file_id": "1RJwgoz84NHaqCRV1mGdK4yXUK1mnxWyI",
      "authorship_tag": "ABX9TyM3aw1dTEAQBbNULf2uebue",
      "include_colab_link": true
    },
    "kernelspec": {
      "name": "python3",
      "display_name": "Python 3"
    },
    "language_info": {
      "name": "python"
    },
    "accelerator": "GPU"
  },
  "cells": [
    {
      "cell_type": "markdown",
      "metadata": {
        "id": "view-in-github",
        "colab_type": "text"
      },
      "source": [
        "<a href=\"https://colab.research.google.com/github/Billu98/Spectrain-seminar-project/blob/main/main.ipynb\" target=\"_parent\"><img src=\"https://colab.research.google.com/assets/colab-badge.svg\" alt=\"Open In Colab\"/></a>"
      ]
    },
    {
      "cell_type": "markdown",
      "source": [
        "## Locating the files stored in google colab"
      ],
      "metadata": {
        "id": "ZzIIethAJYL-"
      }
    },
    {
      "cell_type": "code",
      "source": [
        "import sys\n",
        "sys.path.append(\"/content/drive/MyDrive/Colab Notebooks\")\n",
        "import torch\n",
        "import torch.nn as nn\n",
        "import torch.optim as optim\n",
        "from torch.utils.data import DataLoader, TensorDataset\n",
        "from spectrain import Spectrain\n"
      ],
      "metadata": {
        "id": "jD3WQ4OrGrl2"
      },
      "execution_count": 2,
      "outputs": []
    },
    {
      "cell_type": "markdown",
      "source": [
        "## Checking if the files are accessible or not"
      ],
      "metadata": {
        "id": "pzl2tc71JzZW"
      }
    },
    {
      "cell_type": "code",
      "source": [
        "!python /content/drive/MyDrive/Colab\\ Notebooks/runtime.py"
      ],
      "metadata": {
        "colab": {
          "base_uri": "https://localhost:8080/"
        },
        "id": "ddqKrjwRHecT",
        "outputId": "a6d6dfdd-56c1-4cc2-f1c0-76d2f0a53b3a"
      },
      "execution_count": 3,
      "outputs": [
        {
          "output_type": "stream",
          "name": "stdout",
          "text": [
            "abc\n"
          ]
        }
      ]
    },
    {
      "cell_type": "markdown",
      "source": [
        "## A code to use builtin spectrain algorithm to predict the future weights\n",
        " Not important because the task is to implement it by yourself."
      ],
      "metadata": {
        "id": "7Slb0YVxJ86R"
      }
    },
    {
      "cell_type": "code",
      "source": [
        "import torch\n",
        "import torch.nn as nn\n",
        "import torch.optim as optim\n",
        "\n",
        "class SimpleNet(nn.Module):\n",
        "    def __init__(self):\n",
        "        super(SimpleNet, self).__init__()\n",
        "        self.fc1 = nn.Linear(10, 50)\n",
        "        self.fc2 = nn.Linear(50, 1)\n",
        "\n",
        "    def forward(self, x):\n",
        "        x = torch.relu(self.fc1(x))\n",
        "        x = self.fc2(x)\n",
        "        return x\n",
        "\n",
        "def spectral_decomposition(weight):\n",
        "    U, S, V = torch.svd(weight)\n",
        "    return U, S, V\n",
        "\n",
        "def predict_future_weights(U, S, V, steps=1):\n",
        "    S_future = S * (1 + 0.01 * steps)\n",
        "    weight_future = torch.mm(U, torch.mm(torch.diag(S_future), V.t()))\n",
        "    return weight_future\n",
        "\n",
        "model = SimpleNet().cuda()\n",
        "\n",
        "U1, S1, V1 = spectral_decomposition(model.fc1.weight.data)\n",
        "U2, S2, V2 = spectral_decomposition(model.fc2.weight.data)\n",
        "\n",
        "future_steps = 5\n",
        "predicted_weight1 = predict_future_weights(U1, S1, V1, future_steps)\n",
        "predicted_weight2 = predict_future_weights(U2, S2, V2, future_steps)\n",
        "\n",
        "model.fc1.weight.data = predicted_weight1\n",
        "model.fc2.weight.data = predicted_weight2\n",
        "\n",
        "stream1 = torch.cuda.Stream()\n",
        "stream2 = torch.cuda.Stream()\n",
        "\n",
        "# Create dummy inputs\n",
        "inputs = torch.randn(64, 10).cuda()\n",
        "\n",
        "# Perform forward pass using CUDA streams\n",
        "with torch.cuda.stream(stream1):\n",
        "    x1 = torch.relu(model.fc1(inputs))\n",
        "\n",
        "with torch.cuda.stream(stream2):\n",
        "    x2 = model.fc2(x1)\n",
        "\n",
        "torch.cuda.synchronize(stream1)\n",
        "torch.cuda.synchronize(stream2)\n",
        "\n",
        "print(\"Predicted outputs:\", x2)\n"
      ],
      "metadata": {
        "colab": {
          "base_uri": "https://localhost:8080/"
        },
        "id": "4gNYb3pptVoH",
        "outputId": "1bf92739-17a2-4c6c-8bf7-bbb5cb03bad6"
      },
      "execution_count": 4,
      "outputs": [
        {
          "output_type": "stream",
          "name": "stdout",
          "text": [
            "Predicted outputs: tensor([[-0.5024],\n",
            "        [ 0.0531],\n",
            "        [ 0.2487],\n",
            "        [-0.2076],\n",
            "        [-0.5170],\n",
            "        [-0.2433],\n",
            "        [-0.4170],\n",
            "        [-0.0278],\n",
            "        [-0.2891],\n",
            "        [ 0.0064],\n",
            "        [-0.0862],\n",
            "        [-0.0447],\n",
            "        [-0.1076],\n",
            "        [-0.3619],\n",
            "        [-0.1941],\n",
            "        [-0.3887],\n",
            "        [-0.0023],\n",
            "        [-0.1537],\n",
            "        [-0.2026],\n",
            "        [-0.0891],\n",
            "        [-0.2318],\n",
            "        [ 0.1515],\n",
            "        [-0.1306],\n",
            "        [-0.0575],\n",
            "        [-0.6073],\n",
            "        [-0.2937],\n",
            "        [ 0.2329],\n",
            "        [-0.2999],\n",
            "        [ 0.0437],\n",
            "        [-0.4321],\n",
            "        [-0.6771],\n",
            "        [-0.1316],\n",
            "        [-0.4968],\n",
            "        [-0.3948],\n",
            "        [-0.1600],\n",
            "        [ 0.1826],\n",
            "        [-0.0385],\n",
            "        [-0.1738],\n",
            "        [-0.4315],\n",
            "        [ 0.0658],\n",
            "        [-0.5757],\n",
            "        [-0.1520],\n",
            "        [-0.4044],\n",
            "        [ 0.2976],\n",
            "        [ 0.1314],\n",
            "        [-0.0248],\n",
            "        [-0.3043],\n",
            "        [-0.0242],\n",
            "        [ 0.4460],\n",
            "        [-0.3966],\n",
            "        [ 0.1550],\n",
            "        [-0.0286],\n",
            "        [ 0.3840],\n",
            "        [-0.1665],\n",
            "        [-0.2794],\n",
            "        [-0.4289],\n",
            "        [ 0.1647],\n",
            "        [-0.0332],\n",
            "        [-0.4350],\n",
            "        [-0.2851],\n",
            "        [-0.4499],\n",
            "        [-0.2547],\n",
            "        [-0.1647],\n",
            "        [ 0.2010]], device='cuda:0', grad_fn=<AddmmBackward0>)\n"
          ]
        }
      ]
    },
    {
      "cell_type": "markdown",
      "source": [
        "## Cheking if cuda is available and performing simple calculation"
      ],
      "metadata": {
        "id": "4ddstviqKgvP"
      }
    },
    {
      "cell_type": "code",
      "source": [
        "import torch\n",
        "import numpy as np\n",
        "\n",
        "# Check PyTorch and CUDA installation\n",
        "print(\"PyTorch version:\", torch.__version__)\n",
        "print(\"CUDA available:\", torch.cuda.is_available())\n",
        "\n",
        "# Create a simple tensor and perform a CUDA operation\n",
        "a = torch.tensor([1.0, 2.0, 3.0], device='cuda')\n",
        "print(\"Tensor on GPU:\", a)\n"
      ],
      "metadata": {
        "colab": {
          "base_uri": "https://localhost:8080/"
        },
        "id": "NoZik-QDyFmd",
        "outputId": "94978100-6256-4d98-930b-174c22515f59"
      },
      "execution_count": 5,
      "outputs": [
        {
          "output_type": "stream",
          "name": "stdout",
          "text": [
            "PyTorch version: 2.3.0+cu121\n",
            "CUDA available: True\n",
            "Tensor on GPU: tensor([1., 2., 3.], device='cuda:0')\n"
          ]
        }
      ]
    },
    {
      "cell_type": "markdown",
      "source": [
        "## Creating dummy dataset with 100,10 and training using Spectrain (CUDA Streams).\n",
        "\n",
        "## Model used:\n",
        "             --> Simple model with two hidden layers."
      ],
      "metadata": {
        "id": "OJdlrCPTKt38"
      }
    },
    {
      "cell_type": "code",
      "source": [
        "import os\n",
        "import torch\n",
        "import torch.nn as nn\n",
        "import torch.optim as optim\n",
        "from torch.utils.data import DataLoader, TensorDataset\n",
        "import torch.distributed as dist\n",
        "import matplotlib.pyplot as plt\n",
        "\n",
        "def initialize_process_group():\n",
        "    if not dist.is_initialized():\n",
        "        os.environ['RANK'] = '0'\n",
        "        os.environ['WORLD_SIZE'] = '1'\n",
        "        os.environ['MASTER_ADDR'] = 'localhost'\n",
        "        os.environ['MASTER_PORT'] = '12355'\n",
        "        dist.init_process_group(backend='gloo', init_method='env://')\n",
        "\n",
        "initialize_process_group()\n",
        "\n",
        "from spectrain import Spectrain\n",
        "\n",
        "# Define a simple neural network\n",
        "class SimpleModel(nn.Module):\n",
        "    def __init__(self):\n",
        "        super(SimpleModel, self).__init__()\n",
        "        self.fc1 = nn.Linear(10, 50)\n",
        "        self.relu = nn.ReLU()\n",
        "        self.fc2 = nn.Linear(50, 1)\n",
        "\n",
        "    def forward(self, x):\n",
        "        x = self.fc1(x)\n",
        "        x = self.relu(x)\n",
        "        x = self.fc2(x)\n",
        "        return x\n",
        "\n",
        "# Create a dummy dataset\n",
        "x = torch.randn(100, 10)\n",
        "y = torch.randn(100, 1)\n",
        "dataset = TensorDataset(x, y)\n",
        "dataloader = DataLoader(dataset, batch_size=10, shuffle=True)\n",
        "\n",
        "model = SimpleModel().cuda()\n",
        "criterion = nn.MSELoss().cuda()\n",
        "\n",
        "optimizer = Spectrain(model.parameters(), lr=0.01)\n",
        "\n",
        "num_epochs = 5\n",
        "losses = []\n",
        "\n",
        "for epoch in range(num_epochs):\n",
        "    epoch_loss = 0\n",
        "    for inputs, targets in dataloader:\n",
        "        inputs, targets = inputs.cuda(), targets.cuda()\n",
        "\n",
        "        # Create CUDA streams for each part of the model\n",
        "        stream1 = torch.cuda.Stream()\n",
        "        stream2 = torch.cuda.Stream()\n",
        "\n",
        "        with torch.cuda.stream(stream1):\n",
        "            optimizer.zero_grad()\n",
        "\n",
        "            # Forward pass first part of the model\n",
        "            outputs = model.fc1(inputs)\n",
        "            outputs = model.relu(outputs)\n",
        "\n",
        "        with torch.cuda.stream(stream2):\n",
        "            # Forward pass second part of the model\n",
        "            with torch.cuda.stream(stream1):\n",
        "                outputs = outputs.cuda(non_blocking=True)\n",
        "            outputs = model.fc2(outputs)\n",
        "\n",
        "        torch.cuda.synchronize(stream1)\n",
        "        torch.cuda.synchronize(stream2)\n",
        "\n",
        "        loss = criterion(outputs, targets)\n",
        "\n",
        "        loss.backward()\n",
        "\n",
        "        optimizer.step()\n",
        "\n",
        "        epoch_loss += loss.item()\n",
        "\n",
        "    avg_loss = epoch_loss / len(dataloader)\n",
        "    losses.append(avg_loss)\n",
        "\n",
        "    print(f\"Epoch [{epoch+1}/{num_epochs}], Loss: {avg_loss}\")\n",
        "\n",
        "plt.plot(range(1, num_epochs + 1), losses, marker='o')\n",
        "plt.xlabel('Epoch')\n",
        "plt.ylabel('Loss')\n",
        "plt.title('Training Loss')\n",
        "plt.show()\n",
        "\n",
        "print(\"Training complete.\")\n"
      ],
      "metadata": {
        "colab": {
          "base_uri": "https://localhost:8080/",
          "height": 663
        },
        "id": "AIrd4zF3KaLS",
        "outputId": "e7e3d86b-7085-4bc1-b632-056afa78891b"
      },
      "execution_count": 6,
      "outputs": [
        {
          "output_type": "stream",
          "name": "stderr",
          "text": [
            "/content/drive/MyDrive/Colab Notebooks/spectrain.py:84: UserWarning: This overload of add_ is deprecated:\n",
            "\tadd_(Number alpha, Tensor other)\n",
            "Consider using one of the following signatures instead:\n",
            "\tadd_(Tensor other, *, Number alpha) (Triggered internally at ../torch/csrc/utils/python_arg_parser.cpp:1578.)\n",
            "  p.data.add_(-group['lr'], torch.mul(version_diff, d_p))\n"
          ]
        },
        {
          "output_type": "stream",
          "name": "stdout",
          "text": [
            "Epoch [1/5], Loss: 1.0832230389118194\n",
            "Epoch [2/5], Loss: 1.0318171739578248\n",
            "Epoch [3/5], Loss: 1.0091579228639602\n",
            "Epoch [4/5], Loss: 0.9866100072860717\n",
            "Epoch [5/5], Loss: 0.9681657046079636\n"
          ]
        },
        {
          "output_type": "display_data",
          "data": {
            "text/plain": [
              "<Figure size 640x480 with 1 Axes>"
            ],
            "image/png": "[encoded data removed]"
          },
          "metadata": {}
        },
        {
          "output_type": "stream",
          "name": "stdout",
          "text": [
            "Training complete.\n"
          ]
        }
      ]
    },
    {
      "cell_type": "markdown",
      "source": [
        "## Creating dummy dataset with 100,10 and training upon GPU as well as CUDA Streams (Spectrain) to compare the latency.\n",
        "\n",
        "## Model used:\n",
        "             --> Simple model with two hidden layers."
      ],
      "metadata": {
        "id": "0ZZR23sCL5dX"
      }
    },
    {
      "cell_type": "code",
      "source": [
        "import os\n",
        "import torch\n",
        "import torch.nn as nn\n",
        "import torch.optim as optim\n",
        "from torch.utils.data import DataLoader, TensorDataset\n",
        "import torch.distributed as dist\n",
        "import matplotlib.pyplot as plt\n",
        "import time\n",
        "\n",
        "def initialize_process_group():\n",
        "    if not dist.is_initialized():\n",
        "        os.environ['RANK'] = '0'\n",
        "        os.environ['WORLD_SIZE'] = '1'\n",
        "        os.environ['MASTER_ADDR'] = 'localhost'\n",
        "        os.environ['MASTER_PORT'] = '12355'\n",
        "        dist.init_process_group(backend='gloo', init_method='env://')\n",
        "\n",
        "initialize_process_group()\n",
        "from spectrain import Spectrain\n",
        "class SimpleModel(nn.Module):\n",
        "    def __init__(self):\n",
        "        super(SimpleModel, self).__init__()\n",
        "        self.fc1 = nn.Linear(10, 50)\n",
        "        self.relu = nn.ReLU()\n",
        "        self.fc2 = nn.Linear(50, 1)\n",
        "\n",
        "    def forward(self, x):\n",
        "        x = self.fc1(x)\n",
        "        x = self.relu(x)\n",
        "        x = self.fc2(x)\n",
        "        return x\n",
        "\n",
        "# Create a dummy dataset\n",
        "x = torch.randn(100, 10)\n",
        "y = torch.randn(100, 1)\n",
        "dataset = TensorDataset(x, y)\n",
        "dataloader = DataLoader(dataset, batch_size=10, shuffle=True)\n",
        "\n",
        "num_epochs = 5\n",
        "\n",
        "# Function to train the model using standard GPU training\n",
        "def train_standard_gpu(model, criterion, optimizer, dataloader):\n",
        "    start_time = time.time()\n",
        "    for epoch in range(num_epochs):\n",
        "        for inputs, targets in dataloader:\n",
        "            inputs, targets = inputs.cuda(), targets.cuda()\n",
        "\n",
        "            optimizer.zero_grad()\n",
        "\n",
        "            outputs = model(inputs)\n",
        "            loss = criterion(outputs, targets)\n",
        "\n",
        "            loss.backward()\n",
        "\n",
        "\n",
        "            optimizer.step()\n",
        "    end_time = time.time()\n",
        "    return end_time - start_time\n",
        "\n",
        "# Function to train the model using CUDA streams and SpecTrain\n",
        "def train_cuda_streams_spectrain(model, criterion, optimizer, dataloader):\n",
        "    start_time = time.time()\n",
        "    for epoch in range(num_epochs):\n",
        "        for inputs, targets in dataloader:\n",
        "            inputs, targets = inputs.cuda(), targets.cuda()\n",
        "\n",
        "            stream1 = torch.cuda.Stream()\n",
        "            stream2 = torch.cuda.Stream()\n",
        "\n",
        "            with torch.cuda.stream(stream1):\n",
        "\n",
        "                optimizer.zero_grad()\n",
        "\n",
        "                outputs = model.fc1(inputs)\n",
        "                outputs = model.relu(outputs)\n",
        "\n",
        "            with torch.cuda.stream(stream2):\n",
        "\n",
        "                with torch.cuda.stream(stream1):\n",
        "                    outputs = outputs.cuda(non_blocking=True)\n",
        "                outputs = model.fc2(outputs)\n",
        "\n",
        "            torch.cuda.synchronize(stream1)\n",
        "            torch.cuda.synchronize(stream2)\n",
        "\n",
        "            loss = criterion(outputs, targets)\n",
        "\n",
        "            loss.backward()\n",
        "\n",
        "            optimizer.step()\n",
        "    end_time = time.time()\n",
        "    return end_time - start_time\n",
        "\n",
        "model_standard = SimpleModel().cuda()\n",
        "criterion_standard = nn.MSELoss().cuda()\n",
        "optimizer_standard = optim.SGD(model_standard.parameters(), lr=0.01)\n",
        "\n",
        "standard_gpu_training_time = train_standard_gpu(model_standard, criterion_standard, optimizer_standard, dataloader)\n",
        "\n",
        "model_streams = SimpleModel().cuda()\n",
        "criterion_streams = nn.MSELoss().cuda()\n",
        "optimizer_streams = Spectrain(model_streams.parameters(), lr=0.01)\n",
        "\n",
        "cuda_streams_training_time = train_cuda_streams_spectrain(model_streams, criterion_streams, optimizer_streams, dataloader)\n",
        "\n",
        "print(f\"Standard GPU Training Time: {standard_gpu_training_time:.4f} seconds\")\n",
        "print(f\"CUDA Streams with SpecTrain Training Time: {cuda_streams_training_time:.4f} seconds\")\n",
        "print(f\"Speedup: {standard_gpu_training_time / cuda_streams_training_time:.2f}x\")\n"
      ],
      "metadata": {
        "id": "bTEW8FC7PH8O",
        "colab": {
          "base_uri": "https://localhost:8080/"
        },
        "outputId": "e01db423-3ae4-4cb0-a969-85001156eaf9"
      },
      "execution_count": 7,
      "outputs": [
        {
          "output_type": "stream",
          "name": "stdout",
          "text": [
            "Standard GPU Training Time: 0.1047 seconds\n",
            "CUDA Streams with SpecTrain Training Time: 0.0904 seconds\n",
            "Speedup: 1.16x\n"
          ]
        }
      ]
    },
    {
      "cell_type": "markdown",
      "source": [
        "## Models Used:\n",
        "              CNN and FC\n",
        "## Dataset Used:\n",
        "              CIFAR-10\n",
        "\n",
        "## Main idea\n",
        "            To train CNN and FC on CIFAR-10 to compare the training times"
      ],
      "metadata": {
        "id": "I0lw2DjkMIqA"
      }
    },
    {
      "cell_type": "code",
      "source": [
        "import os\n",
        "import torch\n",
        "import torch.nn as nn\n",
        "import torch.optim as optim\n",
        "from torch.utils.data import DataLoader, TensorDataset\n",
        "from torchvision import datasets, transforms\n",
        "import torch.distributed as dist\n",
        "import matplotlib.pyplot as plt\n",
        "import time\n",
        "\n",
        "def initialize_process_group():\n",
        "    if not dist.is_initialized():\n",
        "        os.environ['RANK'] = '0'\n",
        "        os.environ['WORLD_SIZE'] = '1'\n",
        "        os.environ['MASTER_ADDR'] = 'localhost'\n",
        "        os.environ['MASTER_PORT'] = '12355'\n",
        "        dist.init_process_group(backend='gloo', init_method='env://')\n",
        "\n",
        "initialize_process_group()\n",
        "\n",
        "from spectrain import Spectrain\n",
        "\n",
        "# Define the CNN model\n",
        "class CNNModel(nn.Module):\n",
        "    def __init__(self):\n",
        "        super(CNNModel, self).__init__()\n",
        "        self.conv1 = nn.Conv2d(3, 32, 3, 1)\n",
        "        self.conv2 = nn.Conv2d(32, 64, 3, 1)\n",
        "        self.dropout1 = nn.Dropout(0.25)\n",
        "        self.dropout2 = nn.Dropout(0.5)\n",
        "        self.fc1 = nn.Linear(64 * 14 * 14, 128)\n",
        "        self.fc2 = nn.Linear(128, 10)\n",
        "\n",
        "    def forward(self, x):\n",
        "        x = self.conv1(x)\n",
        "        x = nn.ReLU()(x)\n",
        "        x = self.conv2(x)\n",
        "        x = nn.ReLU()(x)\n",
        "        x = nn.MaxPool2d(2)(x)\n",
        "        x = self.dropout1(x)\n",
        "        x = torch.flatten(x, 1)\n",
        "        x = self.fc1(x)\n",
        "        x = nn.ReLU()(x)\n",
        "        x = self.dropout2(x)\n",
        "        x = self.fc2(x)\n",
        "        return x\n",
        "\n",
        "# Define the fully connected model\n",
        "class FCModel(nn.Module):\n",
        "    def __init__(self):\n",
        "        super(FCModel, self).__init__()\n",
        "        self.fc1 = nn.Linear(32*32*3, 512)\n",
        "        self.fc2 = nn.Linear(512, 512)\n",
        "        self.fc3 = nn.Linear(512, 10)\n",
        "\n",
        "    def forward(self, x):\n",
        "        x = torch.flatten(x, 1)\n",
        "        x = self.fc1(x)\n",
        "        x = nn.ReLU()(x)\n",
        "        x = self.fc2(x)\n",
        "        x = nn.ReLU()(x)\n",
        "        x = self.fc3(x)\n",
        "        return x\n",
        "\n",
        "transform = transforms.Compose([\n",
        "    transforms.ToTensor(),\n",
        "    transforms.Normalize((0.4914, 0.4822, 0.4465), (0.2023, 0.1994, 0.2010))\n",
        "])\n",
        "\n",
        "train_dataset = datasets.CIFAR10('./data', train=True, download=True, transform=transform)\n",
        "train_loader = DataLoader(train_dataset, batch_size=64, shuffle=True)\n",
        "\n",
        "num_epochs = 5\n",
        "\n",
        "# Function to train the model using standard GPU training\n",
        "def train_standard_gpu(model, criterion, optimizer, dataloader):\n",
        "    start_time = time.time()\n",
        "    model.train()\n",
        "    for epoch in range(num_epochs):\n",
        "        for inputs, targets in dataloader:\n",
        "            inputs, targets = inputs.cuda(), targets.cuda()\n",
        "\n",
        "            optimizer.zero_grad()\n",
        "\n",
        "            outputs = model(inputs)\n",
        "            loss = criterion(outputs, targets)\n",
        "\n",
        "            loss.backward()\n",
        "\n",
        "            optimizer.step()\n",
        "    end_time = time.time()\n",
        "    return end_time - start_time\n",
        "\n",
        "# Function to train the model using CUDA streams and SpecTrain\n",
        "def train_cuda_streams_spectrain(model, criterion, optimizer, dataloader):\n",
        "    start_time = time.time()\n",
        "    model.train()\n",
        "    for epoch in range(num_epochs):\n",
        "        for inputs, targets in dataloader:\n",
        "            inputs, targets = inputs.cuda(), targets.cuda()\n",
        "\n",
        "            # Create CUDA streams for each part of the model\n",
        "            stream1 = torch.cuda.Stream()\n",
        "            stream2 = torch.cuda.Stream()\n",
        "\n",
        "            with torch.cuda.stream(stream1):\n",
        "                optimizer.zero_grad()\n",
        "\n",
        "                # Forward pass first part of the model\n",
        "                if isinstance(model, CNNModel):\n",
        "                    outputs = model.conv1(inputs)\n",
        "                    outputs = nn.ReLU()(outputs)\n",
        "                    outputs = model.conv2(outputs)\n",
        "                    outputs = nn.ReLU()(outputs)\n",
        "                    outputs = nn.MaxPool2d(2)(outputs)\n",
        "                    outputs = model.dropout1(outputs)\n",
        "                else:\n",
        "                    outputs = torch.flatten(inputs, 1)\n",
        "                    outputs = model.fc1(outputs)\n",
        "                    outputs = nn.ReLU()(outputs)\n",
        "\n",
        "            with torch.cuda.stream(stream2):\n",
        "                # Forward pass second part of the model\n",
        "                with torch.cuda.stream(stream1):\n",
        "                    outputs = outputs.cuda(non_blocking=True)\n",
        "                if isinstance(model, CNNModel):\n",
        "                    outputs = torch.flatten(outputs, 1)\n",
        "                    outputs = model.fc1(outputs)\n",
        "                    outputs = nn.ReLU()(outputs)\n",
        "                    outputs = model.dropout2(outputs)\n",
        "                    outputs = model.fc2(outputs)\n",
        "                else:\n",
        "                    outputs = model.fc2(outputs)\n",
        "                    outputs = nn.ReLU()(outputs)\n",
        "                    outputs = model.fc3(outputs)\n",
        "\n",
        "            torch.cuda.synchronize(stream1)\n",
        "            torch.cuda.synchronize(stream2)\n",
        "\n",
        "            loss = criterion(outputs, targets)\n",
        "\n",
        "            loss.backward()\n",
        "\n",
        "            optimizer.step()\n",
        "    end_time = time.time()\n",
        "    return end_time - start_time\n",
        "\n",
        "models = {\n",
        "    \"CNN_Standard_GPU\": CNNModel().cuda(),\n",
        "    \"CNN_CUDA_Streams\": CNNModel().cuda(),\n",
        "    \"FC_Standard_GPU\": FCModel().cuda(),\n",
        "    \"FC_CUDA_Streams\": FCModel().cuda()\n",
        "}\n",
        "\n",
        "criterion = nn.CrossEntropyLoss().cuda()\n",
        "\n",
        "optimizers = {\n",
        "    \"CNN_Standard_GPU\": optim.SGD(models[\"CNN_Standard_GPU\"].parameters(), lr=0.01),\n",
        "    \"CNN_CUDA_Streams\": Spectrain(models[\"CNN_CUDA_Streams\"].parameters(), lr=0.01),\n",
        "    \"FC_Standard_GPU\": optim.SGD(models[\"FC_Standard_GPU\"].parameters(), lr=0.01),\n",
        "    \"FC_CUDA_Streams\": Spectrain(models[\"FC_CUDA_Streams\"].parameters(), lr=0.01)\n",
        "}\n",
        "\n",
        "times = {\n",
        "    \"CNN_Standard_GPU\": train_standard_gpu(models[\"CNN_Standard_GPU\"], criterion, optimizers[\"CNN_Standard_GPU\"], train_loader),\n",
        "    \"CNN_CUDA_Streams\": train_cuda_streams_spectrain(models[\"CNN_CUDA_Streams\"], criterion, optimizers[\"CNN_CUDA_Streams\"], train_loader),\n",
        "    \"FC_Standard_GPU\": train_standard_gpu(models[\"FC_Standard_GPU\"], criterion, optimizers[\"FC_Standard_GPU\"], train_loader),\n",
        "    \"FC_CUDA_Streams\": train_cuda_streams_spectrain(models[\"FC_CUDA_Streams\"], criterion, optimizers[\"FC_CUDA_Streams\"], train_loader)\n",
        "}\n",
        "\n",
        "for key in times:\n",
        "    print(f\"{key} Training Time: {times[key]:.4f} seconds\")\n"
      ],
      "metadata": {
        "colab": {
          "base_uri": "https://localhost:8080/"
        },
        "id": "sFxF6Tjjp8LD",
        "outputId": "56d3f316-968b-4c13-8caf-eb41d0770b36"
      },
      "execution_count": 10,
      "outputs": [
        {
          "output_type": "stream",
          "name": "stdout",
          "text": [
            "Requirement already satisfied: torch in /usr/local/lib/python3.10/dist-packages (2.3.0+cu121)\n",
            "Requirement already satisfied: torchvision in /usr/local/lib/python3.10/dist-packages (0.18.0+cu121)\n",
            "Requirement already satisfied: matplotlib in /usr/local/lib/python3.10/dist-packages (3.7.1)\n",
            "Requirement already satisfied: filelock in /usr/local/lib/python3.10/dist-packages (from torch) (3.15.4)\n",
            "Requirement already satisfied: typing-extensions>=4.8.0 in /usr/local/lib/python3.10/dist-packages (from torch) (4.12.2)\n",
            "Requirement already satisfied: sympy in /usr/local/lib/python3.10/dist-packages (from torch) (1.12.1)\n",
            "Requirement already satisfied: networkx in /usr/local/lib/python3.10/dist-packages (from torch) (3.3)\n",
            "Requirement already satisfied: jinja2 in /usr/local/lib/python3.10/dist-packages (from torch) (3.1.4)\n",
            "Requirement already satisfied: fsspec in /usr/local/lib/python3.10/dist-packages (from torch) (2023.6.0)\n",
            "Requirement already satisfied: nvidia-cuda-nvrtc-cu12==12.1.105 in /usr/local/lib/python3.10/dist-packages (from torch) (12.1.105)\n",
            "Requirement already satisfied: nvidia-cuda-runtime-cu12==12.1.105 in /usr/local/lib/python3.10/dist-packages (from torch) (12.1.105)\n",
            "Requirement already satisfied: nvidia-cuda-cupti-cu12==12.1.105 in /usr/local/lib/python3.10/dist-packages (from torch) (12.1.105)\n",
            "Requirement already satisfied: nvidia-cudnn-cu12==8.9.2.26 in /usr/local/lib/python3.10/dist-packages (from torch) (8.9.2.26)\n",
            "Requirement already satisfied: nvidia-cublas-cu12==12.1.3.1 in /usr/local/lib/python3.10/dist-packages (from torch) (12.1.3.1)\n",
            "Requirement already satisfied: nvidia-cufft-cu12==11.0.2.54 in /usr/local/lib/python3.10/dist-packages (from torch) (11.0.2.54)\n",
            "Requirement already satisfied: nvidia-curand-cu12==10.3.2.106 in /usr/local/lib/python3.10/dist-packages (from torch) (10.3.2.106)\n",
            "Requirement already satisfied: nvidia-cusolver-cu12==11.4.5.107 in /usr/local/lib/python3.10/dist-packages (from torch) (11.4.5.107)\n",
            "Requirement already satisfied: nvidia-cusparse-cu12==12.1.0.106 in /usr/local/lib/python3.10/dist-packages (from torch) (12.1.0.106)\n",
            "Requirement already satisfied: nvidia-nccl-cu12==2.20.5 in /usr/local/lib/python3.10/dist-packages (from torch) (2.20.5)\n",
            "Requirement already satisfied: nvidia-nvtx-cu12==12.1.105 in /usr/local/lib/python3.10/dist-packages (from torch) (12.1.105)\n",
            "Requirement already satisfied: triton==2.3.0 in /usr/local/lib/python3.10/dist-packages (from torch) (2.3.0)\n",
            "Requirement already satisfied: nvidia-nvjitlink-cu12 in /usr/local/lib/python3.10/dist-packages (from nvidia-cusolver-cu12==11.4.5.107->torch) (12.5.82)\n",
            "Requirement already satisfied: numpy in /usr/local/lib/python3.10/dist-packages (from torchvision) (1.25.2)\n",
            "Requirement already satisfied: pillow!=8.3.*,>=5.3.0 in /usr/local/lib/python3.10/dist-packages (from torchvision) (9.4.0)\n",
            "Requirement already satisfied: contourpy>=1.0.1 in /usr/local/lib/python3.10/dist-packages (from matplotlib) (1.2.1)\n",
            "Requirement already satisfied: cycler>=0.10 in /usr/local/lib/python3.10/dist-packages (from matplotlib) (0.12.1)\n",
            "Requirement already satisfied: fonttools>=4.22.0 in /usr/local/lib/python3.10/dist-packages (from matplotlib) (4.53.0)\n",
            "Requirement already satisfied: kiwisolver>=1.0.1 in /usr/local/lib/python3.10/dist-packages (from matplotlib) (1.4.5)\n",
            "Requirement already satisfied: packaging>=20.0 in /usr/local/lib/python3.10/dist-packages (from matplotlib) (24.1)\n",
            "Requirement already satisfied: pyparsing>=2.3.1 in /usr/local/lib/python3.10/dist-packages (from matplotlib) (3.1.2)\n",
            "Requirement already satisfied: python-dateutil>=2.7 in /usr/local/lib/python3.10/dist-packages (from matplotlib) (2.8.2)\n",
            "Requirement already satisfied: six>=1.5 in /usr/local/lib/python3.10/dist-packages (from python-dateutil>=2.7->matplotlib) (1.16.0)\n",
            "Requirement already satisfied: MarkupSafe>=2.0 in /usr/local/lib/python3.10/dist-packages (from jinja2->torch) (2.1.5)\n",
            "Requirement already satisfied: mpmath<1.4.0,>=1.1.0 in /usr/local/lib/python3.10/dist-packages (from sympy->torch) (1.3.0)\n",
            "Files already downloaded and verified\n",
            "CNN_Standard_GPU Training Time: 77.4451 seconds\n",
            "CNN_CUDA_Streams Training Time: 81.9441 seconds\n",
            "FC_Standard_GPU Training Time: 74.0265 seconds\n",
            "FC_CUDA_Streams Training Time: 74.4777 seconds\n"
          ]
        }
      ]
    },
    {
      "cell_type": "markdown",
      "source": [
        "To Mount the Drive whenever we uploaded new dataset to google drive"
      ],
      "metadata": {
        "id": "Qv1GSPNXMuV-"
      }
    },
    {
      "cell_type": "code",
      "source": [
        "from google.colab import drive\n",
        "drive.mount('/content/drive')\n"
      ],
      "metadata": {
        "colab": {
          "base_uri": "https://localhost:8080/"
        },
        "id": "_z9Z2ByDxZPR",
        "outputId": "ad8f9655-5c0d-4f2a-f4d4-4544b571b22e"
      },
      "execution_count": 29,
      "outputs": [
        {
          "output_type": "stream",
          "name": "stdout",
          "text": [
            "Drive already mounted at /content/drive; to attempt to forcibly remount, call drive.mount(\"/content/drive\", force_remount=True).\n"
          ]
        }
      ]
    },
    {
      "cell_type": "markdown",
      "source": [
        "## Models Used:\n",
        "              CNN and FC\n",
        "## Dataset Used:\n",
        "              FASIONMNIST\n",
        "\n",
        "## Main idea\n",
        "            To train CNN and FC on FASIONMNIST to compare the training times"
      ],
      "metadata": {
        "id": "RhmPTci_M9-S"
      }
    },
    {
      "cell_type": "code",
      "source": [
        "import torch\n",
        "import torch.nn as nn\n",
        "import torch.optim as optim\n",
        "from torch.utils.data import DataLoader, Dataset\n",
        "from torchvision import datasets, transforms\n",
        "import torch.distributed as dist\n",
        "import matplotlib.pyplot as plt\n",
        "import time\n",
        "from spectrain import Spectrain\n",
        "\n",
        "def initialize_process_group():\n",
        "    if not dist.is_initialized():\n",
        "        os.environ['RANK'] = '0'\n",
        "        os.environ['WORLD_SIZE'] = '1'\n",
        "        os.environ['MASTER_ADDR'] = 'localhost'\n",
        "        os.environ['MASTER_PORT'] = '12355'\n",
        "        dist.init_process_group(backend='gloo', init_method='env://')\n",
        "\n",
        "initialize_process_group()\n",
        "\n",
        "transform = transforms.Compose([\n",
        "    transforms.ToTensor(),\n",
        "    transforms.Normalize((0.5,), (0.5,))\n",
        "])\n",
        "\n",
        "train_dataset = datasets.FashionMNIST(root='./data', train=True, download=True, transform=transform)\n",
        "train_loader = DataLoader(train_dataset, batch_size=64, shuffle=True)\n",
        "\n",
        "# Define the CNN model\n",
        "class CNNModel(nn.Module):\n",
        "    def __init__(self):\n",
        "        super(CNNModel, self).__init__()\n",
        "        self.conv1 = nn.Conv2d(1, 32, 3, 1)\n",
        "        self.conv2 = nn.Conv2d(32, 64, 3, 1)\n",
        "        self.dropout1 = nn.Dropout(0.25)\n",
        "        self.dropout2 = nn.Dropout(0.5)\n",
        "        self.fc1 = nn.Linear(9216, 128)\n",
        "        self.fc2 = nn.Linear(128, 10)\n",
        "\n",
        "    def forward(self, x):\n",
        "        x = self.conv1(x)\n",
        "        x = nn.ReLU()(x)\n",
        "        x = self.conv2(x)\n",
        "        x = nn.ReLU()(x)\n",
        "        x = nn.MaxPool2d(2)(x)\n",
        "        x = self.dropout1(x)\n",
        "        x = torch.flatten(x, 1)\n",
        "        x = self.fc1(x)\n",
        "        x = nn.ReLU()(x)\n",
        "        x = self.dropout2(x)\n",
        "        x = self.fc2(x)\n",
        "        return x\n",
        "\n",
        "# Define the fully connected model\n",
        "class FCModel(nn.Module):\n",
        "    def __init__(self):\n",
        "        super(FCModel, self).__init__()\n",
        "        self.fc1 = nn.Linear(28*28, 512)\n",
        "        self.fc2 = nn.Linear(512, 512)\n",
        "        self.fc3 = nn.Linear(512, 10)\n",
        "\n",
        "    def forward(self, x):\n",
        "        x = torch.flatten(x, 1)\n",
        "        x = self.fc1(x)\n",
        "        x = nn.ReLU()(x)\n",
        "        x = self.fc2(x)\n",
        "        x = nn.ReLU()(x)\n",
        "        x = self.fc3(x)\n",
        "        return x\n",
        "\n",
        "num_epochs = 5\n",
        "\n",
        "# Function to train the model using standard GPU training\n",
        "def train_standard_gpu(model, criterion, optimizer, dataloader):\n",
        "    start_time = time.time()\n",
        "    model.train()\n",
        "    for epoch in range(num_epochs):\n",
        "        for inputs, targets in dataloader:\n",
        "            inputs, targets = inputs.cuda(), targets.cuda()\n",
        "\n",
        "            optimizer.zero_grad()\n",
        "\n",
        "            outputs = model(inputs)\n",
        "            loss = criterion(outputs, targets)\n",
        "\n",
        "            loss.backward()\n",
        "\n",
        "            optimizer.step()\n",
        "    end_time = time.time()\n",
        "    return end_time - start_time\n",
        "\n",
        "# Function to train the model using CUDA streams and SpecTrain\n",
        "def train_cuda_streams_spectrain(model, criterion, optimizer, dataloader):\n",
        "    start_time = time.time()\n",
        "    model.train()\n",
        "    for epoch in range(num_epochs):\n",
        "        for inputs, targets in dataloader:\n",
        "            inputs, targets = inputs.cuda(), targets.cuda()\n",
        "\n",
        "            stream1 = torch.cuda.Stream()\n",
        "            stream2 = torch.cuda.Stream()\n",
        "\n",
        "            with torch.cuda.stream(stream1):\n",
        "                optimizer.zero_grad()\n",
        "\n",
        "                # Forward pass first part of the model\n",
        "                if isinstance(model, CNNModel):\n",
        "                    outputs = model.conv1(inputs)\n",
        "                    outputs = nn.ReLU()(outputs)\n",
        "                    outputs = model.conv2(outputs)\n",
        "                    outputs = nn.ReLU()(outputs)\n",
        "                    outputs = nn.MaxPool2d(2)(outputs)\n",
        "                    outputs = model.dropout1(outputs)\n",
        "                else:\n",
        "                    outputs = torch.flatten(inputs, 1)\n",
        "                    outputs = model.fc1(outputs)\n",
        "                    outputs = nn.ReLU()(outputs)\n",
        "\n",
        "            with torch.cuda.stream(stream2):\n",
        "                # Forward pass second part of the model\n",
        "                with torch.cuda.stream(stream1):\n",
        "                    outputs = outputs.cuda(non_blocking=True)\n",
        "                if isinstance(model, CNNModel):\n",
        "                    outputs = torch.flatten(outputs, 1)\n",
        "                    outputs = model.fc1(outputs)\n",
        "                    outputs = nn.ReLU()(outputs)\n",
        "                    outputs = model.dropout2(outputs)\n",
        "                    outputs = model.fc2(outputs)\n",
        "                else:\n",
        "                    outputs = model.fc2(outputs)\n",
        "                    outputs = nn.ReLU()(outputs)\n",
        "                    outputs = model.fc3(outputs)\n",
        "\n",
        "            torch.cuda.synchronize(stream1)\n",
        "            torch.cuda.synchronize(stream2)\n",
        "\n",
        "            loss = criterion(outputs, targets)\n",
        "\n",
        "            loss.backward()\n",
        "\n",
        "            optimizer.step()\n",
        "    end_time = time.time()\n",
        "    return end_time - start_time\n",
        "\n",
        "models = {\n",
        "    \"CNN_Standard_GPU\": CNNModel().cuda(),\n",
        "    \"CNN_CUDA_Streams\": CNNModel().cuda(),\n",
        "    \"FC_Standard_GPU\": FCModel().cuda(),\n",
        "    \"FC_CUDA_Streams\": FCModel().cuda()\n",
        "}\n",
        "\n",
        "criterion = nn.CrossEntropyLoss().cuda()\n",
        "\n",
        "optimizers = {\n",
        "    \"CNN_Standard_GPU\": optim.SGD(models[\"CNN_Standard_GPU\"].parameters(), lr=0.01),\n",
        "    \"CNN_CUDA_Streams\": Spectrain(models[\"CNN_CUDA_Streams\"].parameters(), lr=0.01),\n",
        "    \"FC_Standard_GPU\": optim.SGD(models[\"FC_Standard_GPU\"].parameters(), lr=0.01),\n",
        "    \"FC_CUDA_Streams\": Spectrain(models[\"FC_CUDA_Streams\"].parameters(), lr=0.01)\n",
        "}\n",
        "\n",
        "times = {\n",
        "    \"CNN_Standard_GPU\": train_standard_gpu(models[\"CNN_Standard_GPU\"], criterion, optimizers[\"CNN_Standard_GPU\"], train_loader),\n",
        "    \"CNN_CUDA_Streams\": train_cuda_streams_spectrain(models[\"CNN_CUDA_Streams\"], criterion, optimizers[\"CNN_CUDA_Streams\"], train_loader),\n",
        "    \"FC_Standard_GPU\": train_standard_gpu(models[\"FC_Standard_GPU\"], criterion, optimizers[\"FC_Standard_GPU\"], train_loader),\n",
        "    \"FC_CUDA_Streams\": train_cuda_streams_spectrain(models[\"FC_CUDA_Streams\"], criterion, optimizers[\"FC_CUDA_Streams\"], train_loader)\n",
        "}\n",
        "\n",
        "for key in times:\n",
        "    print(f\"{key} Training Time: {times[key]:.4f} seconds\")\n"
      ],
      "metadata": {
        "colab": {
          "base_uri": "https://localhost:8080/"
        },
        "id": "VUzaDVqS-GUm",
        "outputId": "2c1d0d07-3b8d-40b1-a246-bc31e218864e"
      },
      "execution_count": 9,
      "outputs": [
        {
          "output_type": "stream",
          "name": "stdout",
          "text": [
            "Requirement already satisfied: torch in /usr/local/lib/python3.10/dist-packages (2.3.0+cu121)\n",
            "Requirement already satisfied: torchvision in /usr/local/lib/python3.10/dist-packages (0.18.0+cu121)\n",
            "Requirement already satisfied: matplotlib in /usr/local/lib/python3.10/dist-packages (3.7.1)\n",
            "Requirement already satisfied: filelock in /usr/local/lib/python3.10/dist-packages (from torch) (3.15.4)\n",
            "Requirement already satisfied: typing-extensions>=4.8.0 in /usr/local/lib/python3.10/dist-packages (from torch) (4.12.2)\n",
            "Requirement already satisfied: sympy in /usr/local/lib/python3.10/dist-packages (from torch) (1.12.1)\n",
            "Requirement already satisfied: networkx in /usr/local/lib/python3.10/dist-packages (from torch) (3.3)\n",
            "Requirement already satisfied: jinja2 in /usr/local/lib/python3.10/dist-packages (from torch) (3.1.4)\n",
            "Requirement already satisfied: fsspec in /usr/local/lib/python3.10/dist-packages (from torch) (2023.6.0)\n",
            "Collecting nvidia-cuda-nvrtc-cu12==12.1.105 (from torch)\n",
            "  Using cached nvidia_cuda_nvrtc_cu12-12.1.105-py3-none-manylinux1_x86_64.whl (23.7 MB)\n",
            "Collecting nvidia-cuda-runtime-cu12==12.1.105 (from torch)\n",
            "  Using cached nvidia_cuda_runtime_cu12-12.1.105-py3-none-manylinux1_x86_64.whl (823 kB)\n",
            "Collecting nvidia-cuda-cupti-cu12==12.1.105 (from torch)\n",
            "  Using cached nvidia_cuda_cupti_cu12-12.1.105-py3-none-manylinux1_x86_64.whl (14.1 MB)\n",
            "Collecting nvidia-cudnn-cu12==8.9.2.26 (from torch)\n",
            "  Using cached nvidia_cudnn_cu12-8.9.2.26-py3-none-manylinux1_x86_64.whl (731.7 MB)\n",
            "Collecting nvidia-cublas-cu12==12.1.3.1 (from torch)\n",
            "  Using cached nvidia_cublas_cu12-12.1.3.1-py3-none-manylinux1_x86_64.whl (410.6 MB)\n",
            "Collecting nvidia-cufft-cu12==11.0.2.54 (from torch)\n",
            "  Using cached nvidia_cufft_cu12-11.0.2.54-py3-none-manylinux1_x86_64.whl (121.6 MB)\n",
            "Collecting nvidia-curand-cu12==10.3.2.106 (from torch)\n",
            "  Using cached nvidia_curand_cu12-10.3.2.106-py3-none-manylinux1_x86_64.whl (56.5 MB)\n",
            "Collecting nvidia-cusolver-cu12==11.4.5.107 (from torch)\n",
            "  Using cached nvidia_cusolver_cu12-11.4.5.107-py3-none-manylinux1_x86_64.whl (124.2 MB)\n",
            "Collecting nvidia-cusparse-cu12==12.1.0.106 (from torch)\n",
            "  Using cached nvidia_cusparse_cu12-12.1.0.106-py3-none-manylinux1_x86_64.whl (196.0 MB)\n",
            "Collecting nvidia-nccl-cu12==2.20.5 (from torch)\n",
            "  Using cached nvidia_nccl_cu12-2.20.5-py3-none-manylinux2014_x86_64.whl (176.2 MB)\n",
            "Collecting nvidia-nvtx-cu12==12.1.105 (from torch)\n",
            "  Using cached nvidia_nvtx_cu12-12.1.105-py3-none-manylinux1_x86_64.whl (99 kB)\n",
            "Requirement already satisfied: triton==2.3.0 in /usr/local/lib/python3.10/dist-packages (from torch) (2.3.0)\n",
            "Collecting nvidia-nvjitlink-cu12 (from nvidia-cusolver-cu12==11.4.5.107->torch)\n",
            "  Downloading nvidia_nvjitlink_cu12-12.5.82-py3-none-manylinux2014_x86_64.whl (21.3 MB)\n",
            "\u001b[2K     \u001b[90m━━━━━━━━━━━━━━━━━━━━━━━━━━━━━━━━━━━━━━━━\u001b[0m \u001b[32m21.3/21.3 MB\u001b[0m \u001b[31m64.8 MB/s\u001b[0m eta \u001b[36m0:00:00\u001b[0m\n",
            "\u001b[?25hRequirement already satisfied: numpy in /usr/local/lib/python3.10/dist-packages (from torchvision) (1.25.2)\n",
            "Requirement already satisfied: pillow!=8.3.*,>=5.3.0 in /usr/local/lib/python3.10/dist-packages (from torchvision) (9.4.0)\n",
            "Requirement already satisfied: contourpy>=1.0.1 in /usr/local/lib/python3.10/dist-packages (from matplotlib) (1.2.1)\n",
            "Requirement already satisfied: cycler>=0.10 in /usr/local/lib/python3.10/dist-packages (from matplotlib) (0.12.1)\n",
            "Requirement already satisfied: fonttools>=4.22.0 in /usr/local/lib/python3.10/dist-packages (from matplotlib) (4.53.0)\n",
            "Requirement already satisfied: kiwisolver>=1.0.1 in /usr/local/lib/python3.10/dist-packages (from matplotlib) (1.4.5)\n",
            "Requirement already satisfied: packaging>=20.0 in /usr/local/lib/python3.10/dist-packages (from matplotlib) (24.1)\n",
            "Requirement already satisfied: pyparsing>=2.3.1 in /usr/local/lib/python3.10/dist-packages (from matplotlib) (3.1.2)\n",
            "Requirement already satisfied: python-dateutil>=2.7 in /usr/local/lib/python3.10/dist-packages (from matplotlib) (2.8.2)\n",
            "Requirement already satisfied: six>=1.5 in /usr/local/lib/python3.10/dist-packages (from python-dateutil>=2.7->matplotlib) (1.16.0)\n",
            "Requirement already satisfied: MarkupSafe>=2.0 in /usr/local/lib/python3.10/dist-packages (from jinja2->torch) (2.1.5)\n",
            "Requirement already satisfied: mpmath<1.4.0,>=1.1.0 in /usr/local/lib/python3.10/dist-packages (from sympy->torch) (1.3.0)\n",
            "Installing collected packages: nvidia-nvtx-cu12, nvidia-nvjitlink-cu12, nvidia-nccl-cu12, nvidia-curand-cu12, nvidia-cufft-cu12, nvidia-cuda-runtime-cu12, nvidia-cuda-nvrtc-cu12, nvidia-cuda-cupti-cu12, nvidia-cublas-cu12, nvidia-cusparse-cu12, nvidia-cudnn-cu12, nvidia-cusolver-cu12\n",
            "Successfully installed nvidia-cublas-cu12-12.1.3.1 nvidia-cuda-cupti-cu12-12.1.105 nvidia-cuda-nvrtc-cu12-12.1.105 nvidia-cuda-runtime-cu12-12.1.105 nvidia-cudnn-cu12-8.9.2.26 nvidia-cufft-cu12-11.0.2.54 nvidia-curand-cu12-10.3.2.106 nvidia-cusolver-cu12-11.4.5.107 nvidia-cusparse-cu12-12.1.0.106 nvidia-nccl-cu12-2.20.5 nvidia-nvjitlink-cu12-12.5.82 nvidia-nvtx-cu12-12.1.105\n",
            "Downloading http://fashion-mnist.s3-website.eu-central-1.amazonaws.com/train-images-idx3-ubyte.gz\n",
            "Downloading http://fashion-mnist.s3-website.eu-central-1.amazonaws.com/train-images-idx3-ubyte.gz to ./data/FashionMNIST/raw/train-images-idx3-ubyte.gz\n"
          ]
        },
        {
          "output_type": "stream",
          "name": "stderr",
          "text": [
            "100%|██████████| 26421880/26421880 [00:00<00:00, 98168811.53it/s]\n"
          ]
        },
        {
          "output_type": "stream",
          "name": "stdout",
          "text": [
            "Extracting ./data/FashionMNIST/raw/train-images-idx3-ubyte.gz to ./data/FashionMNIST/raw\n",
            "\n",
            "Downloading http://fashion-mnist.s3-website.eu-central-1.amazonaws.com/train-labels-idx1-ubyte.gz\n",
            "Downloading http://fashion-mnist.s3-website.eu-central-1.amazonaws.com/train-labels-idx1-ubyte.gz to ./data/FashionMNIST/raw/train-labels-idx1-ubyte.gz\n"
          ]
        },
        {
          "output_type": "stream",
          "name": "stderr",
          "text": [
            "100%|██████████| 29515/29515 [00:00<00:00, 3066506.88it/s]"
          ]
        },
        {
          "output_type": "stream",
          "name": "stdout",
          "text": [
            "Extracting ./data/FashionMNIST/raw/train-labels-idx1-ubyte.gz to ./data/FashionMNIST/raw\n",
            "\n",
            "Downloading http://fashion-mnist.s3-website.eu-central-1.amazonaws.com/t10k-images-idx3-ubyte.gz\n"
          ]
        },
        {
          "output_type": "stream",
          "name": "stderr",
          "text": [
            "\n"
          ]
        },
        {
          "output_type": "stream",
          "name": "stdout",
          "text": [
            "Downloading http://fashion-mnist.s3-website.eu-central-1.amazonaws.com/t10k-images-idx3-ubyte.gz to ./data/FashionMNIST/raw/t10k-images-idx3-ubyte.gz\n"
          ]
        },
        {
          "output_type": "stream",
          "name": "stderr",
          "text": [
            "100%|██████████| 4422102/4422102 [00:00<00:00, 36772564.19it/s]"
          ]
        },
        {
          "output_type": "stream",
          "name": "stdout",
          "text": [
            "Extracting ./data/FashionMNIST/raw/t10k-images-idx3-ubyte.gz to ./data/FashionMNIST/raw\n"
          ]
        },
        {
          "output_type": "stream",
          "name": "stderr",
          "text": [
            "\n"
          ]
        },
        {
          "output_type": "stream",
          "name": "stdout",
          "text": [
            "\n",
            "Downloading http://fashion-mnist.s3-website.eu-central-1.amazonaws.com/t10k-labels-idx1-ubyte.gz\n",
            "Downloading http://fashion-mnist.s3-website.eu-central-1.amazonaws.com/t10k-labels-idx1-ubyte.gz to ./data/FashionMNIST/raw/t10k-labels-idx1-ubyte.gz\n"
          ]
        },
        {
          "output_type": "stream",
          "name": "stderr",
          "text": [
            "100%|██████████| 5148/5148 [00:00<00:00, 23546648.85it/s]\n"
          ]
        },
        {
          "output_type": "stream",
          "name": "stdout",
          "text": [
            "Extracting ./data/FashionMNIST/raw/t10k-labels-idx1-ubyte.gz to ./data/FashionMNIST/raw\n",
            "\n",
            "CNN_Standard_GPU Training Time: 78.5017 seconds\n",
            "CNN_CUDA_Streams Training Time: 82.3510 seconds\n",
            "FC_Standard_GPU Training Time: 74.2794 seconds\n",
            "FC_CUDA_Streams Training Time: 75.9186 seconds\n"
          ]
        }
      ]
    },
    {
      "cell_type": "markdown",
      "source": [
        "## Models Used:\n",
        "              ResNet and VGG\n",
        "## Dataset Used:\n",
        "              CIFAR-10\n",
        "\n",
        "## Main idea\n",
        "            To train CNN and FC on CIFAR-10 to compare the training times"
      ],
      "metadata": {
        "id": "NpLARXIQNPyr"
      }
    },
    {
      "cell_type": "code",
      "source": [
        "import os\n",
        "import torch\n",
        "import torch.nn as nn\n",
        "import torch.optim as optim\n",
        "from torch.utils.data import DataLoader\n",
        "from torchvision import datasets, transforms, models\n",
        "import torch.distributed as dist\n",
        "import matplotlib.pyplot as plt\n",
        "import time\n",
        "\n",
        "def initialize_process_group():\n",
        "    if not dist.is_initialized():\n",
        "        os.environ['RANK'] = '0'\n",
        "        os.environ['WORLD_SIZE'] = '1'\n",
        "        os.environ['MASTER_ADDR'] = 'localhost'\n",
        "        os.environ['MASTER_PORT'] = '12355'\n",
        "        dist.init_process_group(backend='gloo', init_method='env://')\n",
        "\n",
        "initialize_process_group()\n",
        "\n",
        "from spectrain import Spectrain\n",
        "\n",
        "transform = transforms.Compose([\n",
        "    transforms.ToTensor(),\n",
        "    transforms.Normalize((0.4914, 0.4822, 0.4465), (0.2023, 0.1994, 0.2010))\n",
        "])\n",
        "\n",
        "train_dataset = datasets.CIFAR10('./data', train=True, download=True, transform=transform)\n",
        "train_loader = DataLoader(train_dataset, batch_size=64, shuffle=True)\n",
        "\n",
        "num_epochs = 5\n",
        "\n",
        "# Function to train the model using standard GPU training\n",
        "def train_standard_gpu(model, criterion, optimizer, dataloader):\n",
        "    start_time = time.time()\n",
        "    model.train()\n",
        "    for epoch in range(num_epochs):\n",
        "        for inputs, targets in dataloader:\n",
        "            inputs, targets = inputs.cuda(), targets.cuda()\n",
        "\n",
        "            optimizer.zero_grad()\n",
        "\n",
        "            outputs = model(inputs)\n",
        "            loss = criterion(outputs, targets)\n",
        "\n",
        "            loss.backward()\n",
        "\n",
        "            optimizer.step()\n",
        "    end_time = time.time()\n",
        "    return end_time - start_time\n",
        "\n",
        "# Function to train the model using CUDA streams and SpecTrain\n",
        "def train_cuda_streams_spectrain(model, criterion, optimizer, dataloader):\n",
        "    start_time = time.time()\n",
        "    model.train()\n",
        "    for epoch in range(num_epochs):\n",
        "        for inputs, targets in dataloader:\n",
        "            inputs, targets = inputs.cuda(), targets.cuda()\n",
        "\n",
        "\n",
        "            stream1 = torch.cuda.Stream()\n",
        "            stream2 = torch.cuda.Stream()\n",
        "\n",
        "            with torch.cuda.stream(stream1):\n",
        "\n",
        "                optimizer.zero_grad()\n",
        "\n",
        "                # Forward pass first part of the model\n",
        "                if isinstance(model, models.VGG):\n",
        "                    outputs = model.features(inputs)\n",
        "                else:\n",
        "                    outputs = model.conv1(inputs)\n",
        "                    outputs = model.bn1(outputs)\n",
        "                    outputs = model.relu(outputs)\n",
        "                    outputs = model.maxpool(outputs)\n",
        "                    outputs = model.layer1(outputs)\n",
        "                    outputs = model.layer2(outputs)\n",
        "                    outputs = model.layer3(outputs)\n",
        "                    outputs = model.layer4(outputs)\n",
        "\n",
        "            with torch.cuda.stream(stream2):\n",
        "                # Forward pass second part of the model\n",
        "                with torch.cuda.stream(stream1):\n",
        "                    outputs = outputs.cuda(non_blocking=True)\n",
        "                if isinstance(model, models.VGG):\n",
        "                    outputs = model.avgpool(outputs)\n",
        "                    outputs = torch.flatten(outputs, 1)\n",
        "                    outputs = model.classifier(outputs)\n",
        "                else:\n",
        "                    outputs = model.avgpool(outputs)\n",
        "                    outputs = torch.flatten(outputs, 1)\n",
        "                    outputs = model.fc(outputs)\n",
        "\n",
        "\n",
        "            torch.cuda.synchronize(stream1)\n",
        "            torch.cuda.synchronize(stream2)\n",
        "\n",
        "\n",
        "            loss = criterion(outputs, targets)\n",
        "\n",
        "\n",
        "            loss.backward()\n",
        "\n",
        "\n",
        "            optimizer.step()\n",
        "    end_time = time.time()\n",
        "    return end_time - start_time\n",
        "\n",
        "models_dict = {\n",
        "    \"ResNet_Standard_GPU\": models.resnet18(pretrained=False, num_classes=10).cuda(),\n",
        "    \"ResNet_CUDA_Streams\": models.resnet18(pretrained=False, num_classes=10).cuda(),\n",
        "    \"VGG_Standard_GPU\": models.vgg16(pretrained=False, num_classes=10).cuda(),\n",
        "    \"VGG_CUDA_Streams\": models.vgg16(pretrained=False, num_classes=10).cuda()\n",
        "}\n",
        "\n",
        "criterion = nn.CrossEntropyLoss().cuda()\n",
        "\n",
        "optimizers = {\n",
        "    \"ResNet_Standard_GPU\": optim.SGD(models_dict[\"ResNet_Standard_GPU\"].parameters(), lr=0.01),\n",
        "    \"ResNet_CUDA_Streams\": Spectrain(models_dict[\"ResNet_CUDA_Streams\"].parameters(), lr=0.01),\n",
        "    \"VGG_Standard_GPU\": optim.SGD(models_dict[\"VGG_Standard_GPU\"].parameters(), lr=0.01),\n",
        "    \"VGG_CUDA_Streams\": Spectrain(models_dict[\"VGG_CUDA_Streams\"].parameters(), lr=0.01)\n",
        "}\n",
        "\n",
        "times = {\n",
        "    \"ResNet_Standard_GPU\": train_standard_gpu(models_dict[\"ResNet_Standard_GPU\"], criterion, optimizers[\"ResNet_Standard_GPU\"], train_loader),\n",
        "    \"ResNet_CUDA_Streams\": train_cuda_streams_spectrain(models_dict[\"ResNet_CUDA_Streams\"], criterion, optimizers[\"ResNet_CUDA_Streams\"], train_loader),\n",
        "    \"VGG_Standard_GPU\": train_standard_gpu(models_dict[\"VGG_Standard_GPU\"], criterion, optimizers[\"VGG_Standard_GPU\"], train_loader),\n",
        "    \"VGG_CUDA_Streams\": train_cuda_streams_spectrain(models_dict[\"VGG_CUDA_Streams\"], criterion, optimizers[\"VGG_CUDA_Streams\"], train_loader)\n",
        "}\n",
        "\n",
        "for key in times:\n",
        "    print(f\"{key} Training Time: {times[key]:.4f} seconds\")\n"
      ],
      "metadata": {
        "colab": {
          "base_uri": "https://localhost:8080/"
        },
        "id": "Q1ofgnU99h43",
        "outputId": "e3abc3e4-9cde-4af4-db3c-29b9815a4852"
      },
      "execution_count": 13,
      "outputs": [
        {
          "output_type": "stream",
          "name": "stdout",
          "text": [
            "Files already downloaded and verified\n"
          ]
        },
        {
          "output_type": "stream",
          "name": "stderr",
          "text": [
            "/usr/local/lib/python3.10/dist-packages/torchvision/models/_utils.py:208: UserWarning: The parameter 'pretrained' is deprecated since 0.13 and may be removed in the future, please use 'weights' instead.\n",
            "  warnings.warn(\n",
            "/usr/local/lib/python3.10/dist-packages/torchvision/models/_utils.py:223: UserWarning: Arguments other than a weight enum or `None` for 'weights' are deprecated since 0.13 and may be removed in the future. The current behavior is equivalent to passing `weights=None`.\n",
            "  warnings.warn(msg)\n"
          ]
        },
        {
          "output_type": "stream",
          "name": "stdout",
          "text": [
            "ResNet_Standard_GPU Training Time: 103.8897 seconds\n",
            "ResNet_CUDA_Streams Training Time: 119.3589 seconds\n",
            "VGG_Standard_GPU Training Time: 188.1575 seconds\n",
            "VGG_CUDA_Streams Training Time: 264.5895 seconds\n"
          ]
        }
      ]
    },
    {
      "cell_type": "code",
      "source": [],
      "metadata": {
        "id": "e2AYsxP3D_An"
      },
      "execution_count": null,
      "outputs": []
    }
  ]
}
